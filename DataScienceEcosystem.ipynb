{
 "cells": [
  {
   "cell_type": "markdown",
   "id": "955a4df3-ab27-4fe1-9df3-10499668e1be",
   "metadata": {},
   "source": [
    "# Data Science Tools and Ecosystem #"
   ]
  },
  {
   "cell_type": "markdown",
   "id": "a8f1cbda-2f60-4ff5-b05e-29594f2e5bc1",
   "metadata": {},
   "source": [
    "In this notebook, Data Science Tools and Ecosystem are summarized."
   ]
  },
  {
   "cell_type": "markdown",
   "id": "de4e925a-8f1b-4f98-8c65-8b27cfbc1599",
   "metadata": {},
   "source": [
    "**Objectives:**\n",
    "- Languages of Data Science\n",
    "- Commonly used Libraries in Data Science\n",
    "- Data Science Tools\n",
    "- Arithmetic Expression in Python"
   ]
  },
  {
   "cell_type": "markdown",
   "id": "a136c412-cd3d-4ef3-b525-d17921ec5b05",
   "metadata": {},
   "source": [
    "Some of the popular languages that Data Scientists use are:\n",
    "1. Python\n",
    "2. R\n",
    "3. SQL\n",
    "4. C++\n",
    "5. Java\n",
    "6. Scala"
   ]
  },
  {
   "cell_type": "markdown",
   "id": "3b6c44fa-bf13-4899-9e51-3c5ccd180ce7",
   "metadata": {},
   "source": [
    "Some of the commonly used libraries used by Data Scientists include:\n",
    "1. NumPy\n",
    "2. Pandas\n",
    "3. Matplotlib\n",
    "4. Scikit-learn\n",
    "5. Seaborn"
   ]
  },
  {
   "cell_type": "markdown",
   "id": "f7c091f4-c55f-4069-aae5-cd733103c907",
   "metadata": {},
   "source": [
    "| Data Science Tools| \n",
    "|-------------------|\n",
    "|Jupyter Notebook|\n",
    "|R Studio|\n",
    "|Visual Studio Code|"
   ]
  },
  {
   "cell_type": "markdown",
   "id": "bc76d69e-c6f1-42e0-96e3-23bd8c8f7a8e",
   "metadata": {},
   "source": [
    "### Below are a few examples of evaluating arithmetic expressions in Python ###"
   ]
  },
  {
   "cell_type": "code",
   "execution_count": 13,
   "id": "8592cb5a-817a-4c09-8757-3b0c56c88efd",
   "metadata": {},
   "outputs": [
    {
     "data": {
      "text/plain": [
       "17"
      ]
     },
     "execution_count": 13,
     "metadata": {},
     "output_type": "execute_result"
    }
   ],
   "source": [
    "# This a simple arithmetic expression to mutiply then add integers\n",
    "(3*4)+5"
   ]
  },
  {
   "cell_type": "code",
   "execution_count": 15,
   "id": "577d9680-2b39-4f68-8167-ad1a182d5fb7",
   "metadata": {},
   "outputs": [
    {
     "data": {
      "text/plain": [
       "3.3333333333333335"
      ]
     },
     "execution_count": 15,
     "metadata": {},
     "output_type": "execute_result"
    }
   ],
   "source": [
    "# This will convert 200 minutes to hours by diving by 60\n",
    "200 / 60 "
   ]
  },
  {
   "cell_type": "markdown",
   "id": "8daa09b6-e296-4c7d-aeab-067d0a285ed2",
   "metadata": {},
   "source": [
    "## Author ##\n",
    "Dmitrii Riabokon"
   ]
  }
 ],
 "metadata": {
  "kernelspec": {
   "display_name": "Python [conda env:base] *",
   "language": "python",
   "name": "conda-base-py"
  },
  "language_info": {
   "codemirror_mode": {
    "name": "ipython",
    "version": 3
   },
   "file_extension": ".py",
   "mimetype": "text/x-python",
   "name": "python",
   "nbconvert_exporter": "python",
   "pygments_lexer": "ipython3",
   "version": "3.12.7"
  }
 },
 "nbformat": 4,
 "nbformat_minor": 5
}
