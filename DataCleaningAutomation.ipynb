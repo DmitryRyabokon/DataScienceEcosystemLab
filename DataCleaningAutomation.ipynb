{
  "nbformat": 4,
  "nbformat_minor": 0,
  "metadata": {
    "colab": {
      "provenance": [],
      "include_colab_link": true
    },
    "kernelspec": {
      "name": "python3",
      "display_name": "Python 3"
    },
    "language_info": {
      "name": "python"
    }
  },
  "cells": [
    {
      "cell_type": "markdown",
      "metadata": {
        "id": "view-in-github",
        "colab_type": "text"
      },
      "source": [
        "<a href=\"https://colab.research.google.com/github/DmitryRyabokon/DataScienceEcosystemLab/blob/main/DataCleaningAutomation.ipynb\" target=\"_parent\"><img src=\"https://colab.research.google.com/assets/colab-badge.svg\" alt=\"Open In Colab\"/></a>"
      ]
    },
    {
      "cell_type": "code",
      "source": [
        "import argparse\n",
        "import pandas as pd\n",
        "import re\n",
        "\n",
        "\n",
        "\n",
        "def main():\n",
        "    parser = argparse.ArgumentParser(description=\"Simple Data Cleaner\")\n",
        "    parser.add_argument(\"-f\", \"--file\", required=True, help=\"Path to the CSV file\")\n",
        "    parser.add_argument(\"-n\", \"--name\", action=\"store_true\", help=\"Clean name column\")\n",
        "    parser.add_argument(\"-p\", \"--phone\", action=\"store_true\", help=\"Validate phone numbers\")\n",
        "    parser.add_argument(\"-a\", \"--address\", action=\"store_true\", help=\"Clean address column\")\n",
        "    parser.add_argument(\"-d\", \"--data\", choices=['drop', 'fill'], help=\"Handle missing data: drop or fill\")\n",
        "\n",
        "  args = parser.parse_args()\n",
        "\n",
        "  def clean_file(file_path, clean_name, clean_phone, clean_address, handle_missing):\n",
        "    # Load the CSV file\n",
        "    try:\n",
        "        df = pd.read_csv(file_path)\n",
        "    except Exception as e:\n",
        "        print(f\"Error reading file: {e}\")\n",
        "        return\n",
        "\n",
        "    print(\"Original Data:\")\n",
        "    print(df.head())\n",
        "\n",
        "    # Handle missing values\n",
        "    if handle_missing == 'drop':\n",
        "        df = df.dropna()\n",
        "    elif handle_missing == 'fill':\n",
        "        df = df.fillna('Unknown')\n",
        "\n",
        "    # Clean name\n",
        "    if clean_name:\n",
        "      df['name'] = df['name'].apply(lambda x: x.strip().title() if isinstance(x, str) else x)\n",
        "\n",
        "    # Clean phone number\n",
        "    if clean_phone:\n",
        "      phone_pattern = re.compile(r'^[+]?[0-9]{10,15}$')\n",
        "      df['phone'] = df['phone'].apply(lambda x: x if phone_pattern.match(str(x)) else 'Invalid')\n",
        "\n",
        "    # Clean addresses\n",
        "    df['address'] = df['address'].apply(lambda x: re.sub(r's+', ' ', x.strip() if isinstance(x, str) else x ))\n",
        "\n",
        "    #print\n",
        "    print(\"\\nCleaned Data\")\n",
        "    print(df.head())\n",
        "\n",
        "    #save data to csv file\n",
        "    output_file = 'cleaned_' + file_path\n",
        "    df.to_csv(output_file, index=False)\n",
        "    ptint(f\"Cleaned data saved to {output_file}\")\n",
        "\n",
        "    clean_file(\n",
        "        file_path=args.file\n",
        "        clean_name=args.name\n",
        "        clean_phone=args.phone\n",
        "        clean_address=args.address\n",
        "        handle_missing=args.data\n",
        "    )\n",
        "\n",
        "if __name__ == \"main\"\n",
        "  main()\n"
      ],
      "metadata": {
        "id": "wtcMhPn2hXYP"
      },
      "execution_count": null,
      "outputs": []
    }
  ]
}